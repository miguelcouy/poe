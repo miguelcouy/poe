{
 "cells": [
  {
   "cell_type": "code",
   "execution_count": 1,
   "metadata": {},
   "outputs": [],
   "source": [
    "from posh_data import *\n",
    "from posh_math import *\n",
    "\n",
    "import pandas as pd"
   ]
  },
  {
   "cell_type": "code",
   "execution_count": 2,
   "metadata": {},
   "outputs": [],
   "source": [
    "pathToDataframe = 'CadUsH.csv'\n",
    "pathToVolUtil = 'UsinasVolUtil.csv'\n",
    "\n",
    "\n",
    "sep = ';'\n",
    "decimal = ','\n",
    "\n",
    "dfDadosUsinas = pd.read_csv(pathToDataframe, sep = sep, encoding = 'UTF-8')\n",
    "dfVolUtilUH = pd.read_csv(pathToVolUtil, sep = sep, encoding = 'UTF-8')\n",
    "\n",
    "cutDadosUsinasColumns = ['CodUsina','Usina','Sistema', 'Posto', 'Jusante',\n",
    "                'Vol.Máx.(hm3)','Vol.min.(hm3)',\n",
    "                'Cota Máx.(m)', 'Cota min.(m)',\n",
    "                'Vol.Vert.(hm3)', 'Vol.Desv.(hm3)', 'Desvio',\n",
    "                'Tipo Perdas(1=%/2=M/3=K)','Valor Perdas',\n",
    "                'Canal Fuga Médio(m)','Prod.Esp.(MW/m3/s/m)','HEf(1)', \n",
    "                'PCV(0)','PCV(1)','PCV(2)','PCV(3)','PCV(4)',\n",
    "                'Data','Vol.Ref.','Reg']\n",
    "dfDadosUsinas = dfDadosUsinas[cutDadosUsinasColumns]"
   ]
  },
  {
   "cell_type": "code",
   "execution_count": 3,
   "metadata": {},
   "outputs": [
    {
     "ename": "TypeError",
     "evalue": "unsupported operand type(s) for -: 'float' and 'str'",
     "output_type": "error",
     "traceback": [
      "\u001b[1;31m---------------------------------------------------------------------------\u001b[0m",
      "\u001b[1;31mTypeError\u001b[0m                                 Traceback (most recent call last)",
      "Cell \u001b[1;32mIn [3], line 3\u001b[0m\n\u001b[0;32m      1\u001b[0m testeUsinas \u001b[39m=\u001b[39m Usinas\u001b[39m.\u001b[39mFiltrar(dfDadosUsinas, codUsina \u001b[39m=\u001b[39m \u001b[39m0\u001b[39m)\n\u001b[0;32m      2\u001b[0m testePCV \u001b[39m=\u001b[39m Calcular()\u001b[39m.\u001b[39mPolinomioCotaVolume(testeUsinas)\n\u001b[1;32m----> 3\u001b[0m testeProdutibilidade \u001b[39m=\u001b[39m Calcular()\u001b[39m.\u001b[39;49mProdutibilidade(testeUsinas, testePCV, dfVolUtilUH)\n",
      "File \u001b[1;32mc:\\Users\\miguel.couy\\OneDrive - ECHOENERGIA PARTICIPACOES S.A\\Documentos\\GitHub\\poe\\posh_math.py:94\u001b[0m, in \u001b[0;36mCalcular.Produtibilidade\u001b[1;34m(self, mainDataFrame, mainDataFramePCV, mainDataFrameVU)\u001b[0m\n\u001b[0;32m     89\u001b[0m volMax \u001b[39m=\u001b[39m \u001b[39mfloat\u001b[39m(mainDataFrame\u001b[39m.\u001b[39mloc[i, \u001b[39m'\u001b[39m\u001b[39mVol.Máx.(hm3)\u001b[39m\u001b[39m'\u001b[39m]\u001b[39m.\u001b[39mreplace(\u001b[39m\"\u001b[39m\u001b[39m,\u001b[39m\u001b[39m\"\u001b[39m,\u001b[39m\"\u001b[39m\u001b[39m.\u001b[39m\u001b[39m\"\u001b[39m))\n\u001b[0;32m     91\u001b[0m vol \u001b[39m=\u001b[39m (volMax \u001b[39m-\u001b[39m volMin) \u001b[39m*\u001b[39m volUtil \u001b[39m+\u001b[39m volMin\n\u001b[0;32m     93\u001b[0m calcIntegral\u001b[39m=\u001b[39m (\n\u001b[1;32m---> 94\u001b[0m     (\n\u001b[0;32m     95\u001b[0m     (\n\u001b[0;32m     96\u001b[0m       mainDataFramePCV\u001b[39m.\u001b[39;49mloc[i, \u001b[39m'\u001b[39;49m\u001b[39mIntegral PCV\u001b[39;49m\u001b[39m'\u001b[39;49m](vol)\n\u001b[0;32m     97\u001b[0m     \u001b[39m-\u001b[39;49m mainDataFramePCV\u001b[39m.\u001b[39;49mloc[i, \u001b[39m'\u001b[39;49m\u001b[39mIntegral PCV\u001b[39;49m\u001b[39m'\u001b[39;49m](volMin)\n\u001b[0;32m     98\u001b[0m     )\n\u001b[0;32m     99\u001b[0m     \u001b[39m/\u001b[39;49m (vol \u001b[39m-\u001b[39;49m volMin)\n\u001b[0;32m    100\u001b[0m     )\n\u001b[0;32m    101\u001b[0m     \u001b[39m-\u001b[39;49m mainDataFrame\u001b[39m.\u001b[39;49mloc[i, \u001b[39m'\u001b[39;49m\u001b[39mCanal Fuga Médio(m)\u001b[39;49m\u001b[39m'\u001b[39;49m]\n\u001b[0;32m    102\u001b[0m     )\n\u001b[0;32m    104\u001b[0m \u001b[39mif\u001b[39;00m mainDataFrame\u001b[39m.\u001b[39mloc[i,\u001b[39m'\u001b[39m\u001b[39mTipo Perdas(1=\u001b[39m\u001b[39m%\u001b[39m\u001b[39m/2=M/3=K)\u001b[39m\u001b[39m'\u001b[39m] \u001b[39m==\u001b[39m \u001b[39m2\u001b[39m:\n\u001b[0;32m    105\u001b[0m     calcProdutibilidade \u001b[39m=\u001b[39m calcIntegral \u001b[39m-\u001b[39m mainDataFrame\u001b[39m.\u001b[39mloc[i,\u001b[39m'\u001b[39m\u001b[39mValor Perdas\u001b[39m\u001b[39m'\u001b[39m]\n",
      "\u001b[1;31mTypeError\u001b[0m: unsupported operand type(s) for -: 'float' and 'str'"
     ]
    }
   ],
   "source": [
    "testeUsinas = Usinas.Filtrar(dfDadosUsinas, codUsina = )\n",
    "testePCV = Calcular().PolinomioCotaVolume(testeUsinas)\n",
    "testeProdutibilidade = Calcular().Produtibilidade(testeUsinas, testePCV, dfVolUtilUH)\n"
   ]
  }
 ],
 "metadata": {
  "kernelspec": {
   "display_name": "Python 3.10.5 64-bit",
   "language": "python",
   "name": "python3"
  },
  "language_info": {
   "codemirror_mode": {
    "name": "ipython",
    "version": 3
   },
   "file_extension": ".py",
   "mimetype": "text/x-python",
   "name": "python",
   "nbconvert_exporter": "python",
   "pygments_lexer": "ipython3",
   "version": "3.10.5"
  },
  "orig_nbformat": 4,
  "vscode": {
   "interpreter": {
    "hash": "751e355f32c9025dae9ffb2aaf17125ff2da1c54ee981aaa2e8135744b6b1332"
   }
  }
 },
 "nbformat": 4,
 "nbformat_minor": 2
}
